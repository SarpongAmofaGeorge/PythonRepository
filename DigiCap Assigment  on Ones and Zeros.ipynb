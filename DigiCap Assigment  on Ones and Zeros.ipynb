{
 "cells": [
  {
   "cell_type": "code",
   "execution_count": 1,
   "id": "701db9be",
   "metadata": {},
   "outputs": [],
   "source": [
    "import numpy as np\n",
    "import pandas as pd"
   ]
  },
  {
   "cell_type": "markdown",
   "id": "4d4e4a16",
   "metadata": {},
   "source": [
    "# Setting the zero matrix to 5 x 5"
   ]
  },
  {
   "cell_type": "code",
   "execution_count": 31,
   "id": "712e84c9",
   "metadata": {},
   "outputs": [
    {
     "data": {
      "text/plain": [
       "array([[0, 0, 0, 0, 0],\n",
       "       [0, 0, 0, 0, 0],\n",
       "       [0, 0, 0, 0, 0],\n",
       "       [0, 0, 0, 0, 0],\n",
       "       [0, 0, 0, 0, 0]])"
      ]
     },
     "execution_count": 31,
     "metadata": {},
     "output_type": "execute_result"
    }
   ],
   "source": [
    "# Setting the zero matrix to 5 x 5\n",
    "code = np.zeros((5, 5), dtype = int)\n",
    "code"
   ]
  },
  {
   "cell_type": "code",
   "execution_count": null,
   "id": "1f5d4da8",
   "metadata": {},
   "outputs": [],
   "source": [
    "# Setting the edges to ones \n",
    "code[0, :] = 1\n",
    "code[-1, :] = 1 \n",
    "code[:, 0] = 1\n",
    "code[:, -1] = 1"
   ]
  },
  {
   "cell_type": "markdown",
   "id": "9c4e19a9",
   "metadata": {},
   "source": [
    "# Setting the middle cell of the matrix to 9"
   ]
  },
  {
   "cell_type": "code",
   "execution_count": 28,
   "id": "8baffad8",
   "metadata": {},
   "outputs": [],
   "source": [
    "#Setting the middle cell of the matrix to 9\n",
    "code[2, 2] = 9"
   ]
  },
  {
   "cell_type": "code",
   "execution_count": 29,
   "id": "a055cd2d",
   "metadata": {},
   "outputs": [
    {
     "data": {
      "text/html": [
       "<div>\n",
       "<style scoped>\n",
       "    .dataframe tbody tr th:only-of-type {\n",
       "        vertical-align: middle;\n",
       "    }\n",
       "\n",
       "    .dataframe tbody tr th {\n",
       "        vertical-align: top;\n",
       "    }\n",
       "\n",
       "    .dataframe thead th {\n",
       "        text-align: right;\n",
       "    }\n",
       "</style>\n",
       "<table border=\"1\" class=\"dataframe\">\n",
       "  <thead>\n",
       "    <tr style=\"text-align: right;\">\n",
       "      <th></th>\n",
       "      <th>0</th>\n",
       "      <th>1</th>\n",
       "      <th>2</th>\n",
       "      <th>3</th>\n",
       "      <th>4</th>\n",
       "    </tr>\n",
       "  </thead>\n",
       "  <tbody>\n",
       "    <tr>\n",
       "      <th>0</th>\n",
       "      <td>1</td>\n",
       "      <td>1</td>\n",
       "      <td>1</td>\n",
       "      <td>1</td>\n",
       "      <td>1</td>\n",
       "    </tr>\n",
       "    <tr>\n",
       "      <th>1</th>\n",
       "      <td>1</td>\n",
       "      <td>0</td>\n",
       "      <td>0</td>\n",
       "      <td>0</td>\n",
       "      <td>1</td>\n",
       "    </tr>\n",
       "    <tr>\n",
       "      <th>2</th>\n",
       "      <td>1</td>\n",
       "      <td>0</td>\n",
       "      <td>9</td>\n",
       "      <td>0</td>\n",
       "      <td>1</td>\n",
       "    </tr>\n",
       "    <tr>\n",
       "      <th>3</th>\n",
       "      <td>1</td>\n",
       "      <td>0</td>\n",
       "      <td>0</td>\n",
       "      <td>0</td>\n",
       "      <td>1</td>\n",
       "    </tr>\n",
       "    <tr>\n",
       "      <th>4</th>\n",
       "      <td>1</td>\n",
       "      <td>1</td>\n",
       "      <td>1</td>\n",
       "      <td>1</td>\n",
       "      <td>1</td>\n",
       "    </tr>\n",
       "  </tbody>\n",
       "</table>\n",
       "</div>"
      ],
      "text/plain": [
       "   0  1  2  3  4\n",
       "0  1  1  1  1  1\n",
       "1  1  0  0  0  1\n",
       "2  1  0  9  0  1\n",
       "3  1  0  0  0  1\n",
       "4  1  1  1  1  1"
      ]
     },
     "execution_count": 29,
     "metadata": {},
     "output_type": "execute_result"
    }
   ],
   "source": [
    "# Converting the matrix into DataFrame\n",
    "data = pd.DataFrame(code)\n",
    "data"
   ]
  },
  {
   "cell_type": "markdown",
   "id": "fbe3ec11",
   "metadata": {},
   "source": [
    "# Taking out the row and columns indices"
   ]
  },
  {
   "cell_type": "code",
   "execution_count": 32,
   "id": "a3767a63",
   "metadata": {},
   "outputs": [
    {
     "name": "stdout",
     "output_type": "stream",
     "text": [
      "1 1 1 1 1\n",
      "1 0 0 0 1\n",
      "1 0 9 0 1\n",
      "1 0 0 0 1\n",
      "1 1 1 1 1\n"
     ]
    }
   ],
   "source": [
    "#Taking out the row and columns indices\n",
    "print(data.to_string(index = False, header = False) )"
   ]
  },
  {
   "cell_type": "code",
   "execution_count": null,
   "id": "17c3aefa",
   "metadata": {},
   "outputs": [],
   "source": []
  }
 ],
 "metadata": {
  "kernelspec": {
   "display_name": "Python 3 (ipykernel)",
   "language": "python",
   "name": "python3"
  },
  "language_info": {
   "codemirror_mode": {
    "name": "ipython",
    "version": 3
   },
   "file_extension": ".py",
   "mimetype": "text/x-python",
   "name": "python",
   "nbconvert_exporter": "python",
   "pygments_lexer": "ipython3",
   "version": "3.9.13"
  }
 },
 "nbformat": 4,
 "nbformat_minor": 5
}
